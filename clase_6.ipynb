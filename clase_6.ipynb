{
  "nbformat": 4,
  "nbformat_minor": 0,
  "metadata": {
    "colab": {
      "provenance": [],
      "authorship_tag": "ABX9TyPuKVtKC+9ueKcNxw5F1EvW",
      "include_colab_link": true
    },
    "kernelspec": {
      "name": "python3",
      "display_name": "Python 3"
    },
    "language_info": {
      "name": "python"
    }
  },
  "cells": [
    {
      "cell_type": "markdown",
      "metadata": {
        "id": "view-in-github",
        "colab_type": "text"
      },
      "source": [
        "<a href=\"https://colab.research.google.com/github/carlosjuliogarciaorjuela/Andy-Esteban-Torres-Cartagena/blob/master/clase_6.ipynb\" target=\"_parent\"><img src=\"https://colab.research.google.com/assets/colab-badge.svg\" alt=\"Open In Colab\"/></a>"
      ]
    },
    {
      "cell_type": "code",
      "execution_count": null,
      "metadata": {
        "colab": {
          "base_uri": "https://localhost:8080/"
        },
        "id": "GtdN71oDFKNj",
        "outputId": "270c64e5-7ecb-4498-9629-8e4e28b0310a"
      },
      "outputs": [
        {
          "output_type": "execute_result",
          "data": {
            "text/plain": [
              "['Gabriel Gacía Márquez', 'Julio Cortázar', 'Gabriel Gacía Márquez']"
            ]
          },
          "metadata": {},
          "execution_count": 14
        }
      ],
      "source": [
        "# Lista de autores (ordenada, Puede repertirse)\n",
        "autores = [\"Gabriel Gacía Márquez\", \"Julio Cortázar\", \"Gabriel Gacía Márquez\"]\n",
        "autores"
      ]
    },
    {
      "cell_type": "code",
      "source": [
        "# Conjunto de autores (unicidad Garantizada)\n",
        "autores_unicos = set(autores)\n",
        "autores_unicos"
      ],
      "metadata": {
        "colab": {
          "base_uri": "https://localhost:8080/"
        },
        "id": "lZSBa-pJFWdW",
        "outputId": "f3405411-baa6-413e-8460-8f0493424129"
      },
      "execution_count": null,
      "outputs": [
        {
          "output_type": "execute_result",
          "data": {
            "text/plain": [
              "{'Gabriel Gacía Márquez', 'Julio Cortázar'}"
            ]
          },
          "metadata": {},
          "execution_count": 15
        }
      ]
    },
    {
      "cell_type": "code",
      "source": [
        "# Diccionario  Libro  y autor\n",
        "libros = {\n",
        "    \"Cien años de Soledad\": \"Gabriel García Márquez\",\n",
        "    \"Rayuela\": \"Julio Cortázar\"\n",
        "}\n",
        "libros"
      ],
      "metadata": {
        "colab": {
          "base_uri": "https://localhost:8080/"
        },
        "id": "RZoQbO0BFv3e",
        "outputId": "a87ded9c-100f-4f80-ba73-674d6b4bd845"
      },
      "execution_count": null,
      "outputs": [
        {
          "output_type": "execute_result",
          "data": {
            "text/plain": [
              "{'Cien años de Soledad': 'Gabriel García Márquez', 'Rayuela': 'Julio Cortázar'}"
            ]
          },
          "metadata": {},
          "execution_count": 17
        }
      ]
    },
    {
      "cell_type": "code",
      "source": [],
      "metadata": {
        "id": "4aR97LJtF7yP"
      },
      "execution_count": null,
      "outputs": []
    },
    {
      "cell_type": "markdown",
      "source": [
        "**Estructuras Aninadas::**:"
      ],
      "metadata": {
        "id": "kKwSO6oMQNB2"
      }
    },
    {
      "cell_type": "code",
      "source": [
        "# Tenemos un diccionaro con dos vlaes libros y  prestamos que estan apunto a la lista de diccionarios.\n",
        "biblioteca ={\n",
        "    \"libros\": [\n",
        "        {\"titulo\": \"Cien años de Soledad\", \"autor\": \"Gabriel García Márquez\", \"año\": 1967},\n",
        "        {\"titulo\": \"Rayuela\", \"autor\": \"Julio Cortázar\", \"año\": 1963}\n",
        "    ],\n",
        "    \"prestados\": [\n",
        "        {\"libro\": \"Cien años de Soledad\", \"usario\": \"carlos\", \"fecha\": \"2023-07-15\"},\n",
        "    ]\n",
        "}\n",
        "\n",
        "biblioteca"
      ],
      "metadata": {
        "colab": {
          "base_uri": "https://localhost:8080/"
        },
        "id": "bfRLj3X2GB8x",
        "outputId": "9ee0c2a4-2047-4076-fcc4-2bb212f46e91"
      },
      "execution_count": null,
      "outputs": [
        {
          "output_type": "execute_result",
          "data": {
            "text/plain": [
              "{'libros': [{'titulo': 'Cien años de Soledad',\n",
              "   'autor': 'Gabriel García Márquez',\n",
              "   'año': 1967},\n",
              "  {'titulo': 'Rayuela', 'autor': 'Julio Cortázar', 'año': 1963}],\n",
              " 'prestados': [{'libro': 'Cien años de Soledad',\n",
              "   'usario': 'carlos',\n",
              "   'fecha': '2023-07-15'}]}"
            ]
          },
          "metadata": {},
          "execution_count": 18
        }
      ]
    },
    {
      "cell_type": "markdown",
      "source": [
        "Transformación y limpieza"
      ],
      "metadata": {
        "id": "9wDtUWb_RqAG"
      }
    },
    {
      "cell_type": "code",
      "source": [
        "# datos inconsistentes\n",
        "datos_inconsistentes = [\n",
        "    {\"book\": \" Rayuela\", \"author\": \"Julio cortázar\", \"date\": \"1963\"},\n",
        "    {\"book\": \"Cien años de Soledad\", \"author\": \"gabriel garcía márquez\", \"date\": \"1967\"},\n",
        "    {\"book\": \"Rayuela\", \"author\": \"Julio Cortázar\", \"date\": \"1963\"}\n",
        "]\n",
        "\n",
        "datos_inconsistentes"
      ],
      "metadata": {
        "colab": {
          "base_uri": "https://localhost:8080/"
        },
        "id": "u0Z5d0RmRGse",
        "outputId": "9e29d40b-236d-4911-b867-8ecfd9f5919b"
      },
      "execution_count": null,
      "outputs": [
        {
          "output_type": "execute_result",
          "data": {
            "text/plain": [
              "[{'book': ' Rayuela', 'author': 'Julio cortázar', 'date': '1963'},\n",
              " {'book': 'Cien años de Soledad',\n",
              "  'author': 'gabriel garcía márquez',\n",
              "  'date': '1967'},\n",
              " {'book': 'Rayuela', 'author': 'Julio Cortázar', 'date': '1963'}]"
            ]
          },
          "metadata": {},
          "execution_count": 2
        }
      ]
    },
    {
      "cell_type": "markdown",
      "source": [
        "**Refactorización** **Limpia**:"
      ],
      "metadata": {
        "id": "St5gQBnHTVqU"
      }
    },
    {
      "cell_type": "code",
      "source": [
        "def limpiar_datos(datos):\n",
        "    estructura_limpia = []\n",
        "    vistos = set()\n",
        "\n",
        "    for d in datos:\n",
        "        libro = d[\"book\"].strip()\n",
        "        autor = d[\"author\"].title().strip()   # Normalizar nombres\n",
        "        año = int(d[\"date\"])\n",
        "\n",
        "        # Generar clave única para cada libro\n",
        "        clave = (libro, autor, año)  # Evita duplicados\n",
        "        if clave not in vistos:\n",
        "            vistos.add(clave)\n",
        "            estructura_limpia.append({\n",
        "                \"titulo\": libro,\n",
        "                \"autor\": autor,\n",
        "                \"año\": año\n",
        "            })\n",
        "    return estructura_limpia\n",
        "\n",
        "biblioteca_limpia = limpiar_datos(datos_inconsistentes)\n",
        "print(biblioteca_limpia)\n"
      ],
      "metadata": {
        "id": "dyW7GGCiRx0o",
        "colab": {
          "base_uri": "https://localhost:8080/"
        },
        "outputId": "72696b00-de34-40a8-b133-b0943851c1fe"
      },
      "execution_count": null,
      "outputs": [
        {
          "output_type": "stream",
          "name": "stdout",
          "text": [
            "[{'titulo': 'Rayuela', 'autor': 'Julio Cortázar', 'año': 1963}, {'titulo': 'Cien años de Soledad', 'autor': 'Gabriel García Márquez', 'año': 1967}]\n"
          ]
        }
      ]
    },
    {
      "cell_type": "markdown",
      "source": [
        "**Refactorización**\n",
        "Replatear la estructura:\n",
        "\n",
        "\n",
        "\n",
        "\n",
        "1. Evistar redundacia de datos.\n",
        "2. Mejorar la accesibilidad de los datos\n",
        "3. Claridad en las relaciones."
      ],
      "metadata": {
        "id": "vHlzEwxChMVw"
      }
    },
    {
      "cell_type": "code",
      "source": [
        "# Ejemplo no refactorizado\n",
        "prestamos = [\n",
        "    {\"titulo\": \"Cien Años de Soledad\", \"usuario\": \"Carlos\", \"fecha\": \"2023-07-15\"},\n",
        "    {\"titulo\": \"Cien Años de Soledad\", \"usuario\": \"Carlos\", \"fecha\": \"2023-07-16\"}\n",
        "]\n",
        "prestamos"
      ],
      "metadata": {
        "colab": {
          "base_uri": "https://localhost:8080/"
        },
        "id": "_vLFNs2BheJ9",
        "outputId": "8bc1f7f6-adb4-40f1-90d0-4464d5250685"
      },
      "execution_count": null,
      "outputs": [
        {
          "output_type": "execute_result",
          "data": {
            "text/plain": [
              "[{'titulo': 'Cien Años de Soledad',\n",
              "  'usuario': 'Carlos',\n",
              "  'fecha': '2023-07-15'},\n",
              " {'titulo': 'Cien Años de Soledad',\n",
              "  'usuario': 'Carlos',\n",
              "  'fecha': '2023-07-16'}]"
            ]
          },
          "metadata": {},
          "execution_count": 5
        }
      ]
    },
    {
      "cell_type": "code",
      "source": [
        "# Ejemplo Refactorizado\n",
        "prestamos = {\n",
        "    \"Carlos\": [\n",
        "        {\"titulo\": \"Cien Años de soledad\", \"fecha\": \"2023-07-15\"},\n",
        "    ]\n",
        "}\n",
        "prestamos"
      ],
      "metadata": {
        "colab": {
          "base_uri": "https://localhost:8080/"
        },
        "id": "EYSDqItDjSOx",
        "outputId": "d1d22d70-974b-4194-ab20-0a8daa367164"
      },
      "execution_count": null,
      "outputs": [
        {
          "output_type": "execute_result",
          "data": {
            "text/plain": [
              "{'Carlos': [{'titulo': 'Cien Años de soledad', 'fecha': '2023-07-15'}]}"
            ]
          },
          "metadata": {},
          "execution_count": 6
        }
      ]
    },
    {
      "cell_type": "markdown",
      "source": [
        "**Esquema de Biblioteca**\n",
        "\n",
        "1.   Libros\n",
        "2.   Autores\n",
        "3.   Préstamos\n",
        "\n",
        "Nota:\n",
        "\n",
        "\n",
        "\n",
        "*   elegir la estrutura\n",
        "*   limpiar y normalizar datos\n",
        "*   refactorización del comido, eliminando datos duplicados y rebundancia\n",
        "*   Usar  estructuras anidadas  para remplazar relaciones reales:\n",
        "    Libros > autors > préstamos\n",
        "\n"
      ],
      "metadata": {
        "id": "WfiBQPztkU40"
      }
    },
    {
      "cell_type": "code",
      "source": [
        "biblioteca = {\n",
        "    \"autores\": {\n",
        "        \"Gabriel García Márquez\": {\"nacionalidad\": \"Colombiano\"},\n",
        "        \"Julio Cortazar\": {\"nacionalidad\": \"Argentino\"}\n",
        "    },\n",
        "    \"libros\": {\n",
        "        \"Cien años de soledad\": {\"autor\": \"Gabriel García Márquez\", \"año\": 1967},\n",
        "        \"Rayuela\": {\"autor\": \"Julio Cortazar\", \"año\": 1963}\n",
        "    },\n",
        "    \"prestamos\": {\n",
        "        \"Carlos\": [{\n",
        "            \"libro\": \"Cien Años de Soledad\", \"fecha\": \"2023-07-15\"\n",
        "        }]\n",
        "    }\n",
        "}\n",
        "biblioteca"
      ],
      "metadata": {
        "colab": {
          "base_uri": "https://localhost:8080/"
        },
        "id": "_O99wAvKj4UQ",
        "outputId": "4102780c-fdcd-49c3-ff6f-03cf9ae0bdf6"
      },
      "execution_count": null,
      "outputs": [
        {
          "output_type": "execute_result",
          "data": {
            "text/plain": [
              "{'autores': {'Gabriel García Márquez': {'nacionalidad': 'Colombiano'},\n",
              "  'Julio Cortazar': {'nacionalidad': 'Argentino'}},\n",
              " 'libros': {'Cien años de soledad': {'autor': 'Gabriel García Márquez',\n",
              "   'año': 1967},\n",
              "  'Rayuela': {'autor': 'Julio Cortazar', 'año': 1963}},\n",
              " 'prestamos': {'Carlos': [{'libro': 'Cien Años de Soledad',\n",
              "    'fecha': '2023-07-15'}]}}"
            ]
          },
          "metadata": {},
          "execution_count": 7
        }
      ]
    },
    {
      "cell_type": "markdown",
      "source": [],
      "metadata": {
        "id": "S6W_edJ4kTmd"
      }
    }
  ]
}